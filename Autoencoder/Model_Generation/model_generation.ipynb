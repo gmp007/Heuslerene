{
 "cells": [
  {
   "cell_type": "markdown",
   "id": "7898b0f7",
   "metadata": {},
   "source": [
    "# Generating Autoencoders over Parameter Grid\n",
    "\n",
    "Imports and Constants\n",
    "\n",
    "**Part 1:** Parameter Selection\n",
    "\n",
    "**Part 2:** Model Creation\n",
    "\n",
    "\n",
    "Based on ELF Autoencoder training by [insert]\n",
    "\n",
    "By Justin Hart, 2025\n"
   ]
  },
  {
   "cell_type": "markdown",
   "id": "03e2b314",
   "metadata": {},
   "source": [
    "### Imports and Logging Creation"
   ]
  },
  {
   "cell_type": "code",
   "execution_count": 1,
   "id": "d9b5f1c5",
   "metadata": {},
   "outputs": [],
   "source": [
    "%matplotlib inline\n",
    "import sys\n",
    "import os\n",
    "sys.path.append(os.path.abspath('..'))  \n",
    "\n",
    "from fastai import *\n",
    "from fastai.vision.all import *\n",
    "\n",
    "from Model.transforms import Binarize\n",
    "from Model.TensorImageNoised import PILImageNoised, RandomErasingTransform\n",
    "import Model.model as model\n",
    "\n",
    "from fastprogress.fastprogress import force_console_behavior\n",
    "from fastprogress import fastprogress\n",
    "\n",
    "from itertools import product\n",
    "import logging\n",
    "\n",
    "fastprogress.NO_BAR = False\n",
    "master_bar, progress_bar = force_console_behavior()\n",
    "fastprogress.master_bar, fastprogress.progress_bar = master_bar, progress_bar\n",
    "\n",
    "import logging\n",
    "\n",
    "logging.basicConfig(\n",
    "    filename=\"model_generation.log\",\n",
    "    level=logging.INFO,\n",
    "    format=\"%(asctime)s - %(levelname)s - %(message)s\",\n",
    "    filemode='a'  # Append to existing log\n",
    ")\n",
    "\n",
    "logger = logging.getLogger(__name__)"
   ]
  },
  {
   "cell_type": "markdown",
   "id": "8922e38f",
   "metadata": {},
   "source": [
    "## Part 1: Parameter Selection\n",
    "- **resnet_version_param** is the depth of the model (18, 34, 50, 101, 152)\n",
    "- **latent_space_dim_param** is the dimension of the fingerprint, 1 leads to a latent space of a 7x7 layer (1, 2, ...)\n",
    "- **window_size_param** is the number of eV above and below the fermi energy (1, 2, ...)\n",
    "- **training_steps_param** is the number of steps the model is trained for (1, 2, ...) \n",
    "    - this was used instead of validation score or test score due to the flucuation of them throughout training\n",
    "- **train_test_split_param** is the percent of band images used in training ([0, 1))\n",
    "- **line_width_param** is the width of the lines in the band structure ((0,np.inf)])"
   ]
  },
  {
   "cell_type": "code",
   "execution_count": 2,
   "id": "b5f2eabf",
   "metadata": {},
   "outputs": [],
   "source": [
    "resnet_version_param = [18, 50]\n",
    "latent_space_dim_param = [1, 2, 3]\n",
    "window_size_param = [1, 2, 3]\n",
    "training_steps_param = [30, 60, 90, 120]\n",
    "train_test_split_param = [0, 0.1, 0.5]\n",
    "line_width_param = [1]"
   ]
  },
  {
   "cell_type": "code",
   "execution_count": 3,
   "id": "1e2cc0bd",
   "metadata": {},
   "outputs": [],
   "source": [
    "IMAGE_PATH = r\"C:\\Users\\Justin\\Documents\\Lehigh_REU\\Machine Learning\\Autoencoder Files\\BandData\""
   ]
  },
  {
   "cell_type": "markdown",
   "id": "c3f1651a",
   "metadata": {},
   "source": [
    "## Part 2: Model Creation\n",
    "\n",
    "Runs over parameter space, creating an autoencoder for each parameter and saving it. Training steps can be seen in model_generation.log, and the validation and information is additionally saved in a .csv file."
   ]
  },
  {
   "cell_type": "code",
   "execution_count": null,
   "id": "e07d94c2",
   "metadata": {},
   "outputs": [
    {
     "data": {
      "text/html": [
       "\n",
       "<style>\n",
       "    /* Turns off some styling */\n",
       "    progress {\n",
       "        /* gets rid of default border in Firefox and Opera. */\n",
       "        border: none;\n",
       "        /* Needs to be in here for Safari polyfill so background images work as expected. */\n",
       "        background-size: auto;\n",
       "    }\n",
       "    progress:not([value]), progress:not([value])::-webkit-progress-bar {\n",
       "        background: repeating-linear-gradient(45deg, #7e7e7e, #7e7e7e 10px, #5c5c5c 10px, #5c5c5c 20px);\n",
       "    }\n",
       "    .progress-bar-interrupted, .progress-bar-interrupted::-webkit-progress-bar {\n",
       "        background: #F44336;\n",
       "    }\n",
       "</style>\n"
      ],
      "text/plain": [
       "<IPython.core.display.HTML object>"
      ]
     },
     "metadata": {},
     "output_type": "display_data"
    },
    {
     "data": {
      "text/html": [
       "\n",
       "    <div>\n",
       "      <progress value='2' class='' max='30' style='width:300px; height:20px; vertical-align: middle;'></progress>\n",
       "      6.67% [2/30 00:29&lt;06:59]\n",
       "    </div>\n",
       "    \n",
       "<table border=\"1\" class=\"dataframe\">\n",
       "  <thead>\n",
       "    <tr style=\"text-align: left;\">\n",
       "      <th>epoch</th>\n",
       "      <th>train_loss</th>\n",
       "      <th>valid_loss</th>\n",
       "      <th>time</th>\n",
       "    </tr>\n",
       "  </thead>\n",
       "  <tbody>\n",
       "    <tr>\n",
       "      <td>0</td>\n",
       "      <td>0.720455</td>\n",
       "      <td>None</td>\n",
       "      <td>00:17</td>\n",
       "    </tr>\n",
       "    <tr>\n",
       "      <td>1</td>\n",
       "      <td>0.707795</td>\n",
       "      <td>None</td>\n",
       "      <td>00:12</td>\n",
       "    </tr>\n",
       "  </tbody>\n",
       "</table><p>\n",
       "\n",
       "    <div>\n",
       "      <progress value='0' class='' max='2' style='width:300px; height:20px; vertical-align: middle;'></progress>\n",
       "      0.00% [0/2 00:00&lt;?]\n",
       "    </div>\n",
       "    "
      ],
      "text/plain": [
       "<IPython.core.display.HTML object>"
      ]
     },
     "metadata": {},
     "output_type": "display_data"
    },
    {
     "name": "stderr",
     "output_type": "stream",
     "text": [
      "c:\\Users\\Justin\\Documents\\Lehigh_REU\\.venv\\Lib\\site-packages\\fastprogress\\fastprogress.py:73: UserWarning: Your generator is empty.\n",
      "  warn(\"Your generator is empty.\")\n"
     ]
    }
   ],
   "source": [
    "results = []\n",
    "\n",
    "parameters = product(resnet_version_param, latent_space_dim_param, window_size_param, \n",
    "                     training_steps_param, train_test_split_param, line_width_param)\n",
    "\n",
    "os.makedirs('models', exist_ok=True)\n",
    "\n",
    "for i, (resnet_version, latent_space_dim, window_size, training_steps, train_test_split, line_width) in enumerate(parameters):\n",
    "    try:\n",
    "        logger.info(f\"Training resnet{resnet_version}, latent={latent_space_dim}, window={window_size}, steps={training_steps}, split={train_test_split}, line width={line_width}\")    \n",
    "\n",
    "        # Load the data\n",
    "        dls = DataBlock(\n",
    "            blocks=(ImageBlock(cls=PILImageNoised), ImageBlock),\n",
    "            get_items=get_image_files,\n",
    "            splitter=RandomSplitter(valid_pct=train_test_split, seed=37),\n",
    "            item_tfms=[Resize((224))],\n",
    "            batch_tfms=[Binarize(),RandomErasingTransform(sl=0.2)]\n",
    "        ).dataloaders(f'{IMAGE_PATH}/Images/bands_{10 * line_width}width_{window_size}eV_ml', bs = 64, num_workers=os.cpu_count())\n",
    "\n",
    "        # Training model\n",
    "        loss = nn.BCEWithLogitsLoss()\n",
    "\n",
    "        sigmoid = True\n",
    "        if isinstance(loss, nn.BCEWithLogitsLoss):\n",
    "            sigmoid = False\n",
    "\n",
    "        ae = model.BuildAutoEncoder(f\"resnet{resnet_version}\", sigmoid=sigmoid, z_channels=latent_space_dim)\n",
    "        learn = Learner(dls, ae, loss_func=loss)\n",
    "        if torch.cuda.is_available():\n",
    "            learn.to_fp32().to('cuda')\n",
    "            logger.info(f\"Using GPU: {torch.cuda.get_device_name(0)}\")\n",
    "        else:\n",
    "            logger.warning(\"CUDA not available. Training on CPU.\")\n",
    "\n",
    "        learn.fit_one_cycle(training_steps)\n",
    "\n",
    "\n",
    "        # Save the model\n",
    "        model_name = f\"resnet{resnet_version}_latent{latent_space_dim}_window{window_size}eV_steps{training_steps}_split{train_test_split * 10}_width{line_width}_.pkl\"\n",
    "        learn.export(f\"models/{model_name}\")\n",
    "\n",
    "\n",
    "        validation_score = learn.validate()[0] if train_test_split > 0 else None\n",
    "        train_score = learn.validate(dl=learn.dls.train)[0]\n",
    "\n",
    "\n",
    "        results.append({\n",
    "            \"resnet_version\": resnet_version,\n",
    "            \"latent_space_dim\": latent_space_dim,\n",
    "            \"window_size\": window_size,\n",
    "            \"training_steps\": training_steps,\n",
    "            \"train_test_split\": train_test_split,\n",
    "            \"line_width\": line_width,\n",
    "            \"validation_score\": validation_score,\n",
    "            \"test_score\": train_score\n",
    "        })\n",
    "\n",
    "        logger.info(f\"Finished: Train loss = {train_score:.4f}, Valid loss = {validation_score}\")\n",
    "\n",
    "    except Exception as e:\n",
    "        logger.error(f\"Failed on resnet{resnet_version}, latent={latent_space_dim}, window={window_size}, steps={training_steps}, split={train_test_split}, width={line_width}\")\n",
    "        logger.exception(e)  \n",
    "\n",
    "\n",
    "import pandas as pd\n",
    "df = pd.DataFrame(results)\n",
    "df.to_csv(\"grid_search_results.csv\", index=False)\n"
   ]
  }
 ],
 "metadata": {
  "kernelspec": {
   "display_name": ".venv",
   "language": "python",
   "name": "python3"
  },
  "language_info": {
   "codemirror_mode": {
    "name": "ipython",
    "version": 3
   },
   "file_extension": ".py",
   "mimetype": "text/x-python",
   "name": "python",
   "nbconvert_exporter": "python",
   "pygments_lexer": "ipython3",
   "version": "3.13.0"
  }
 },
 "nbformat": 4,
 "nbformat_minor": 5
}
